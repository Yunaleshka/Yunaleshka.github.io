{
 "cells": [
  {
   "cell_type": "markdown",
   "id": "ffd4005a",
   "metadata": {},
   "source": [
    "# HTML Notes\n",
    "## Tags\n",
    "tags makes up HTML elements. There are opiening tags, that can have attributes, and closing tags. Everything between is the element \"content\".\n",
    "### Example"
   ]
  },
  {
   "cell_type": "code",
   "execution_count": 2,
   "id": "83d8dbf0",
   "metadata": {},
   "outputs": [
    {
     "data": {
      "text/html": [
       "<b>This text is bold.</b>\n"
      ],
      "text/plain": [
       "<IPython.core.display.HTML object>"
      ]
     },
     "metadata": {},
     "output_type": "display_data"
    }
   ],
   "source": [
    "%%html\n",
    "<b>This text is bold.</b> "
   ]
  },
  {
   "cell_type": "markdown",
   "id": "2c2c9fac",
   "metadata": {},
   "source": [
    "## Attributes\n",
    "The opening tag can have atributes which modify the element.\n",
    "# Example"
   ]
  },
  {
   "cell_type": "code",
   "execution_count": 5,
   "id": "7bc9995f",
   "metadata": {},
   "outputs": [
    {
     "data": {
      "text/html": [
       "<img src=\"https://encrypted-tbn0.gstatic.com/images?q=tbn:ANd9GcRmlClO520jV5UYjMbXy8KjFY1BV0Sdlj-7WPPxEtojQMxGwvMuhgSg8KDwMgZY-zKloCI:https://i.pinimg.com/736x/47/85/53/47855328760893b5d369a643f1bf404f--palette-black-goku.jpg&usqp=CAU\"></img>\n"
      ],
      "text/plain": [
       "<IPython.core.display.HTML object>"
      ]
     },
     "metadata": {},
     "output_type": "display_data"
    }
   ],
   "source": [
    "%%html\n",
    "<img src=\"https://encrypted-tbn0.gstatic.com/images?q=tbn:ANd9GcRmlClO520jV5UYjMbXy8KjFY1BV0Sdlj-7WPPxEtojQMxGwvMuhgSg8KDwMgZY-zKloCI:https://i.pinimg.com/736x/47/85/53/47855328760893b5d369a643f1bf404f--palette-black-goku.jpg&usqp=CAU\"></img>"
   ]
  },
  {
   "cell_type": "code",
   "execution_count": 7,
   "id": "0f78545f",
   "metadata": {},
   "outputs": [
    {
     "data": {
      "application/javascript": "alert(\"Look out ! It's Black Goku!\");\n",
      "text/plain": [
       "<IPython.core.display.Javascript object>"
      ]
     },
     "metadata": {},
     "output_type": "display_data"
    }
   ],
   "source": [
    "%%js\n",
    "alert(\"Look out ! It's Black Goku!\");"
   ]
  },
  {
   "cell_type": "code",
   "execution_count": null,
   "id": "77be5e9c",
   "metadata": {},
   "outputs": [],
   "source": []
  }
 ],
 "metadata": {
  "kernelspec": {
   "display_name": "Python 3 (ipykernel)",
   "language": "python",
   "name": "python3"
  },
  "language_info": {
   "codemirror_mode": {
    "name": "ipython",
    "version": 3
   },
   "file_extension": ".py",
   "mimetype": "text/x-python",
   "name": "python",
   "nbconvert_exporter": "python",
   "pygments_lexer": "ipython3",
   "version": "3.9.1"
  }
 },
 "nbformat": 4,
 "nbformat_minor": 5
}
